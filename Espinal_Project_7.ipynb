{
 "cells": [
  {
   "cell_type": "markdown",
   "metadata": {},
   "source": [
    "# Data Sets and Machine Learning\n",
    "\n",
    "  In today's age, nothing seems to be more important than information. Informing ourselves on multiple subjects is the building block to becoming anything, from being a fanatic in a sport to being a professional in a field. Data is a collection of information when it is used in conjunction with a specific view. For example, the shooting percentage of point guards in basketball is simply data but when it is used in conjunction, say when you are trying to explain how the Knicks can get better in regards to their standing when they fix things such as passing, shooting, defense etc. then the data on shooting percentage on players becomes information regarding the performance of the Knicks basketball team. Data is the core for our technological age in this gilded age, the web was made by pouring data into computers and now people can use it as they wish, obviously not as easy as it sounds. Data is derived from the Latin word datum, which means \"dare to give\", and it was first coined around the 1640's. Data, information, knowledge, and wisdom are often used together and are said to be stepping stones to one another. When raw data is collected, it is simply numbers and observations regarding everything and anything. When the data is used to explain something regarding some type of field like sports, for example, it is then converted to information that is useful to anyone who wants to research that speicifc field, there are usually data bases with all of this information, for example ESPN is the information heaven for all things sports, any stats on any player etc can be found on ESPN. When information is analyzed by someone who wants to become proficient in a certain field the transition from information to knowledge is made and professions like sports analysts are born, or even financial analysts, who look at the trend of stocks and make decisions for large hedge funds or companies based on accumulated data represented graphically. The experience in a field leads to wisdom, a form of other worldly insight into a field or topic, usually someone who has wisdom on something can become a mentor, like a professor. So here we see the applications of data and how it plays a role in our society but that's just the tip of the iceberg. Data can be just as good as it can be bad, or harmful. One primary example of this is happening right now with Facebook and Mark Zuckerberg. The situation at hand seemed to be something regarding privacy and freedom in the realm of user information that Facebook was simply handing out to this company cambridge analytica that lead to meddling in the US election that may have lead trump to the seat.  The data was used to propagandize Trump to try to get more voters in the US, so data can be used for many things, be it good and bad. \n",
    "  \n",
    "  Evaluating Data is the processes of refining raw data and using it for specific things, this is also known as data analysis. Data analysis is used when we have a bulk of data but its too much so we need to kind of pick and choose what we need. Lets say we have a set of data of the human body, hair color, weight, sex, age, marital status and height and we are trying to make a pronostication concerning obesity in the human body. Now since we are dealing with weight we can condense our data and make it easier for us to use the data at hand, we dont need the marital status or hair color of our subjects since those things dont have a direct correlation between humans and obesity but we do need the weight, sex and even height to make our data analysis.\n",
    "  \n",
    "  Can machines think? Ever since the computer was first engineered it has bested humans in almost anything mathematics wise, as its job as a computer. Computers were made to solve complex math problems in seconds, we have demonstrated this too many times in this course to not be convinced by this statement. The one thing that computers lack is a sense of self awareness, the ability to think on their own. Computers don't have brains like humans do and the collection of billions of neurons that enable us to formulate thoughts is a gift we have acquired through millions of years of evolution that computers wont have simply becuase they are not living beings, so how do we as the creators of the computer enable it to come close to the idea of thought? Alan Turing wrote a seminal paper on artificial intelligence called \"Computing Machinery and Intelligence\" and in this paper Turing tackles the concept of machine thinking and remodels the definition of the word \"think\" and he does so by introducing a game, the \"Imitation game.\" In this game, we have a computer and two humans, the computer is trying to pose as a human and the other human, Human A, is also trying to convince the judge Human C that he or she is a human. Now if the judge cannot decide either of the two is the imposter than the machine wins, the machine tries to convince the judge that it is human by answering questions and doing anything that a human would do, and this is what brought the paper to its redifining point, it wasn't a question of whether machines can think or not it was a question of whether machines can act as humans do, and the machine would do this with cognitive thought. How does data come in to all of this? Well, without data none of this would be possible. If we recall from before, data is a simple stepping stone for more useful assets like information and knowledge, and we want to make the transition from data to knowledge in our computers and we do this by using mathematical algorithms that then are used in statistical computing. We use data to try to get information on a certain topic to become proficient in that topic and thats what we want to do with computers as well. This is done in a unique way, if we want our computer to reach a certain destination we dont give it the step by step directions we want the computer to learn as it goes along, so we give it bits and pieces and then we can see if the computer can reach the destination on its own. An example of this would be like making a car, now usually machines and computers have algorithms that allow them to move in the assembly line where they put the pieces of cars together etc. etc. but if we want to take it a step further we can do something like this; We have a completely dismembered car in a room, every part is there we want our machine to build the car from scratch with no human intervention. How? Well the computer, that operates the machine would need to know extensively the mechanics of how cars are built, it has to know the size, the model, the brand, how many cylanders and what not. We give our machine all of the necessary information, the tools, and then we just leave it in the room and see what happens. We implement a method that we did in the previous project, optimization, and this comes into play because our computer doesn't know the answer to this problem but it has to come up with the best answer possible and it has to have a guiding method to do this, like a concious per se, this \"concious\"  would deter the computer from incorrect answers eliminate them and then try to gravitate towards the most correct answer, which is what Particle Swarm Optimization was in a sense. In this scenario the data that would be fed to our computer that would enable it to reach its destination would be anything to do with cars and how they work and how to build them, so data and data analysis is the most important part of machine learning because without it machines would not be able learn.\n",
    "  \n",
    "  # Analyzing a data set\n",
    "    \n",
    "  ### Biology of Iris\n",
    "  \n",
    "  In this project we will be exploring the data set of the iris flower, a rather famous set. The iris flower is a type of flower that has many variations. The iris Flower is known as a genus, in biology a genus is a taxonomic rank in biological classification. A genus is above the \"species\" rank and below the \"family\" rank it pertains to a \"group\" and they have something known as a generic name. For example \"Gray Wolf\" has a generic name of \"Calis Lupus\" Calis being latin for \"Dog\" and \"Lupus\" is wolf, this form of classification is used for all species, as a way to keep track of them and their different variations. There are many types of wolfs not just gray wolfs, so the genus just groups the wolves together as a category of \"Wolf\" and within that category you have different types of wolves, we are doing the same thing for the Iris Flower. The Iris is a genus of about 260-300 different species of flowers. In our data set we only use three iris flowers, also known as the Iris Data set first illustrated by Ronald Fischer. The characterization of the iris flower is how we can group them later on and there are different forms of classifications for flowers. \n",
    "  Most speices of the iris are perennial herbs and this means that they die off some time in the season and sprout again in the most ideal time. There are two main genus' that are used to seperate the iris flower into. One if the rhizomes (rhizomatous), a subtarranean stem plant that shoots our roots from its nodes, a rhzome is the main stem of the plant. The second genus is that of a bulb which is another stem but this one is more of a leaf based stem as opposed to node based. The bulbs leaf based stem has food reserves which can be used in harsh wheather conditions when nutrients are scarce for the iris plant, the feature explains why the iris is so populated in so many areas, having a resevoir of food can help keep the plant alive enough until breeding season comes. The Iris is usually separated based on those two sungenii and also the beards of the plant (fuzzy looking section in the middle of the flower). \n",
    "  The Shape of the iris is well made for pollenation whether it be self-pollination with its own anthers or cross pollination from another plant. The rhizome iris' can also reproduce asexually, by cutting of a stem of the rhizome.\n",
    "  \n",
    "  ### Description of Iris\n",
    "  \n",
    "  The flowers have inflorscenses in the shape of a fan that contain one or more symmetrical six-lobbed flowers. Inflorscenses are the part of the flower where there is a stem, on that stem is where the flower actually froms, so its like a long branch and at the end of the branch there is the seed where the flower grows. The flowers are then composed of symmetrcial lobbed flowers, approximatley six. These are often supported by either a pedicel or a peduncle, these are basically mini stems coming out of the larger stem and then the flower is erected from that smaller stem. \n",
    "  \n",
    "  ![crit](https://upload.wikimedia.org/wikipedia/commons/f/fe/Cherry_pedicel.jpg)\n",
    "  \n",
    "  (image by lonelyamor) \n",
    "  In this example we can see the cherry fruit and the pedicel that holds the cherry, this is then supported by a larger stem. The inflorscenses of the iris flower are the most determining features of their characteristics. The pedals tend to vary from species to speices and they do so in attributes like petal length, petal width, sepal length and sepal width. The three sepals which are usually spreading and drooping downwards are refferred to as \"falls\". They expand from their base(\"claw\") into a broader expanded portion(\"blade\") \n",
    "  \n",
    "  ![crit](http://www.stlouisirises.com/images/index/irisparts.jpg)\n",
    "  (image by Greater St. Louis Iris Society)\n",
    "    The iris flower has three petals that stand upright behind the sepal bases. These are known as \"standards\" sometimes all six of the flowers will be standing uprght but it is rare, usually the petals and sepals are different in a noticable way. The image above is a standard looking iris flower and we can see the differences in the standards and the falls simply by how they are arranged in the flower. Every iris flower has standards and falls, the differences comes in the length, and the width of the pedals and the sepals. The differences in those measurements is how Ronald Fischer distinguished the different speices of the iris flower. \n",
    "    In our data set we have 50 samples from three speices of iris, the Versicolor, Virginica and the Setosa. Each species has four attributes that was used in the classification of the flowers which were petal length, petal width, sepal length and sepal width. We will load our data set and show the numbers we have and play around with some features to try to get an understanding of what this data represents. This data set contains a varitey of features which have been already discussed in a bit of detail. In the data set we have the Species of our flowers, there will be the information concerning petals and sepals.\n",
    "    \n",
    "https://en.wikipedia.org/wiki/Bulb\n",
    "\n",
    "https://en.wikipedia.org/wiki/Data_mining\n",
    "\n",
    "https://en.wikipedia.org/wiki/Data_analysis\n",
    "\n",
    "https://en.wikipedia.org/wiki/Iris_flower_data_set\n",
    "\n",
    "https://en.wikipedia.org/wiki/Data"
   ]
  },
  {
   "cell_type": "code",
   "execution_count": 147,
   "metadata": {},
   "outputs": [],
   "source": [
    "import matplotlib.pyplot as plt\n",
    "import pandas as pd\n",
    "import seaborn as sns\n",
    "import numpy as np\n",
    "% matplotlib inline"
   ]
  },
  {
   "cell_type": "code",
   "execution_count": 148,
   "metadata": {},
   "outputs": [
    {
     "data": {
      "text/html": [
       "<div>\n",
       "<style scoped>\n",
       "    .dataframe tbody tr th:only-of-type {\n",
       "        vertical-align: middle;\n",
       "    }\n",
       "\n",
       "    .dataframe tbody tr th {\n",
       "        vertical-align: top;\n",
       "    }\n",
       "\n",
       "    .dataframe thead th {\n",
       "        text-align: right;\n",
       "    }\n",
       "</style>\n",
       "<table border=\"1\" class=\"dataframe\">\n",
       "  <thead>\n",
       "    <tr style=\"text-align: right;\">\n",
       "      <th></th>\n",
       "      <th>sepal_length</th>\n",
       "      <th>sepal_width</th>\n",
       "      <th>petal_length</th>\n",
       "      <th>petal_width</th>\n",
       "      <th>species</th>\n",
       "    </tr>\n",
       "  </thead>\n",
       "  <tbody>\n",
       "    <tr>\n",
       "      <th>0</th>\n",
       "      <td>5.1</td>\n",
       "      <td>3.5</td>\n",
       "      <td>1.4</td>\n",
       "      <td>0.2</td>\n",
       "      <td>setosa</td>\n",
       "    </tr>\n",
       "    <tr>\n",
       "      <th>1</th>\n",
       "      <td>4.9</td>\n",
       "      <td>3.0</td>\n",
       "      <td>1.4</td>\n",
       "      <td>0.2</td>\n",
       "      <td>setosa</td>\n",
       "    </tr>\n",
       "    <tr>\n",
       "      <th>2</th>\n",
       "      <td>4.7</td>\n",
       "      <td>3.2</td>\n",
       "      <td>1.3</td>\n",
       "      <td>0.2</td>\n",
       "      <td>setosa</td>\n",
       "    </tr>\n",
       "    <tr>\n",
       "      <th>3</th>\n",
       "      <td>4.6</td>\n",
       "      <td>3.1</td>\n",
       "      <td>1.5</td>\n",
       "      <td>0.2</td>\n",
       "      <td>setosa</td>\n",
       "    </tr>\n",
       "    <tr>\n",
       "      <th>4</th>\n",
       "      <td>5.0</td>\n",
       "      <td>3.6</td>\n",
       "      <td>1.4</td>\n",
       "      <td>0.2</td>\n",
       "      <td>setosa</td>\n",
       "    </tr>\n",
       "  </tbody>\n",
       "</table>\n",
       "</div>"
      ],
      "text/plain": [
       "   sepal_length  sepal_width  petal_length  petal_width species\n",
       "0           5.1          3.5           1.4          0.2  setosa\n",
       "1           4.9          3.0           1.4          0.2  setosa\n",
       "2           4.7          3.2           1.3          0.2  setosa\n",
       "3           4.6          3.1           1.5          0.2  setosa\n",
       "4           5.0          3.6           1.4          0.2  setosa"
      ]
     },
     "execution_count": 148,
     "metadata": {},
     "output_type": "execute_result"
    }
   ],
   "source": [
    "irisData = sns.load_dataset('iris')\n",
    "irisData.head()"
   ]
  },
  {
   "cell_type": "code",
   "execution_count": 149,
   "metadata": {},
   "outputs": [
    {
     "name": "stdout",
     "output_type": "stream",
     "text": [
      "<class 'pandas.core.frame.DataFrame'>\n",
      "RangeIndex: 150 entries, 0 to 149\n",
      "Data columns (total 5 columns):\n",
      "sepal_length    150 non-null float64\n",
      "sepal_width     150 non-null float64\n",
      "petal_length    150 non-null float64\n",
      "petal_width     150 non-null float64\n",
      "species         150 non-null object\n",
      "dtypes: float64(4), object(1)\n",
      "memory usage: 5.9+ KB\n"
     ]
    }
   ],
   "source": [
    "irisData.info()"
   ]
  },
  {
   "cell_type": "markdown",
   "metadata": {},
   "source": [
    "We will use our seaborn 'sns' function, pre installed into python to access our data. Our data set contains our species along with our desired specifications, sepal and petal length, sepal and petal width which is what we will use to later on distinguish the differences in the species. We also uploaded the information regarding the set, there are 150 entries  and there are a total of five columns, fairly simple information, what is contained in the colummns labeled sepal_length,sepal_width, petal_length,petal_width are floats, which are the measurements. We can see that no data is missing from our set, all the columns have a total of 150 entries, so we dont need to do any educated guesses for that which is good. "
   ]
  },
  {
   "cell_type": "code",
   "execution_count": 150,
   "metadata": {},
   "outputs": [
    {
     "data": {
      "text/html": [
       "<div>\n",
       "<style scoped>\n",
       "    .dataframe tbody tr th:only-of-type {\n",
       "        vertical-align: middle;\n",
       "    }\n",
       "\n",
       "    .dataframe tbody tr th {\n",
       "        vertical-align: top;\n",
       "    }\n",
       "\n",
       "    .dataframe thead th {\n",
       "        text-align: right;\n",
       "    }\n",
       "</style>\n",
       "<table border=\"1\" class=\"dataframe\">\n",
       "  <thead>\n",
       "    <tr style=\"text-align: right;\">\n",
       "      <th></th>\n",
       "      <th>sepal_length</th>\n",
       "      <th>sepal_width</th>\n",
       "      <th>petal_length</th>\n",
       "      <th>petal_width</th>\n",
       "    </tr>\n",
       "  </thead>\n",
       "  <tbody>\n",
       "    <tr>\n",
       "      <th>count</th>\n",
       "      <td>150.000000</td>\n",
       "      <td>150.000000</td>\n",
       "      <td>150.000000</td>\n",
       "      <td>150.000000</td>\n",
       "    </tr>\n",
       "    <tr>\n",
       "      <th>mean</th>\n",
       "      <td>5.843333</td>\n",
       "      <td>3.057333</td>\n",
       "      <td>3.758000</td>\n",
       "      <td>1.199333</td>\n",
       "    </tr>\n",
       "    <tr>\n",
       "      <th>std</th>\n",
       "      <td>0.828066</td>\n",
       "      <td>0.435866</td>\n",
       "      <td>1.765298</td>\n",
       "      <td>0.762238</td>\n",
       "    </tr>\n",
       "    <tr>\n",
       "      <th>min</th>\n",
       "      <td>4.300000</td>\n",
       "      <td>2.000000</td>\n",
       "      <td>1.000000</td>\n",
       "      <td>0.100000</td>\n",
       "    </tr>\n",
       "    <tr>\n",
       "      <th>25%</th>\n",
       "      <td>5.100000</td>\n",
       "      <td>2.800000</td>\n",
       "      <td>1.600000</td>\n",
       "      <td>0.300000</td>\n",
       "    </tr>\n",
       "    <tr>\n",
       "      <th>50%</th>\n",
       "      <td>5.800000</td>\n",
       "      <td>3.000000</td>\n",
       "      <td>4.350000</td>\n",
       "      <td>1.300000</td>\n",
       "    </tr>\n",
       "    <tr>\n",
       "      <th>75%</th>\n",
       "      <td>6.400000</td>\n",
       "      <td>3.300000</td>\n",
       "      <td>5.100000</td>\n",
       "      <td>1.800000</td>\n",
       "    </tr>\n",
       "    <tr>\n",
       "      <th>max</th>\n",
       "      <td>7.900000</td>\n",
       "      <td>4.400000</td>\n",
       "      <td>6.900000</td>\n",
       "      <td>2.500000</td>\n",
       "    </tr>\n",
       "  </tbody>\n",
       "</table>\n",
       "</div>"
      ],
      "text/plain": [
       "       sepal_length  sepal_width  petal_length  petal_width\n",
       "count    150.000000   150.000000    150.000000   150.000000\n",
       "mean       5.843333     3.057333      3.758000     1.199333\n",
       "std        0.828066     0.435866      1.765298     0.762238\n",
       "min        4.300000     2.000000      1.000000     0.100000\n",
       "25%        5.100000     2.800000      1.600000     0.300000\n",
       "50%        5.800000     3.000000      4.350000     1.300000\n",
       "75%        6.400000     3.300000      5.100000     1.800000\n",
       "max        7.900000     4.400000      6.900000     2.500000"
      ]
     },
     "execution_count": 150,
     "metadata": {},
     "output_type": "execute_result"
    }
   ],
   "source": [
    "irisData.describe()"
   ]
  },
  {
   "cell_type": "markdown",
   "metadata": {},
   "source": [
    "We can call upon different functions in our sns to give us different types of information that we can use for our data sets. We can do things like add or delete columns, and focus only specifc coloumns that we desire to work with, but right now our main goal is to explain the data set and get a clear picture of what we have. Our data set is going from 0 to 149 and in the proceeding four columns we have our measurements and the species. What we want to do is to generalize some of the info and then see any trends between it, we want to kind of distinguish between the three sets, not now but later on, but noticing small details now can be essential later on.\n",
    "Here when we call upon the '.describe()' feature we get a lot of useful information that we will be using a bit later on to show some interesting things but what we are seeing here right now is some form of statistical information regarding our iris data set. The mean, average, length of the sepal_length is about $5.84$ this means that out of all 150 samples when we take the length of the sepal and divide the sum by 150 we get around $5.84$ and all across our data set we can see what the correlations between the different lengths and widths are we can even tell by how many standard deviations the lengths and widths are seperated by and it isnt a very large deviation so they are all around the same length. We can also see the minimun and maximum length of all of our variables. If we look closely at the numbers the seem to overlap a little bit between our min and max. If we plot some graphs we can see how close they are to each other. "
   ]
  },
  {
   "cell_type": "code",
   "execution_count": 151,
   "metadata": {},
   "outputs": [
    {
     "data": {
      "image/png": "[encoded data removed]",
      "text/plain": [
       "<Figure size 432x288 with 1 Axes>"
      ]
     },
     "metadata": {
      "needs_background": "light"
     },
     "output_type": "display_data"
    }
   ],
   "source": [
    "sns.boxplot(x='species', y='sepal_length',data=irisData, palette='rainbow')\n",
    "plt.show()"
   ]
  },
  {
   "cell_type": "markdown",
   "metadata": {},
   "source": [
    "A box plot shows the distribution of quantitative data in a way that facilitates comparisons between variables. The box shows the qartiles of the data set, our min ,$25\\%$, $50\\%$, $75\\%$ and our max, the little diamond shape on the third box plot is an outlier, that is basically not even in our data set.\n",
    "What we have plotted here is a box plot of the sepal length information. Of the other data sets we couldve plotted this one i wanted to pay a bit more attention to becuase of the second and third box plots. We can see that the box plots for 'Versicolor' and 'Virginica' kind of overlap a little bit and what this means is that in regards to the sepal length there are some flowers from both sets that share similar lengths.  Around the first quartile for the Versicolor species and the third quartile for the Virginica species share some values. What i want to show next is a swarm plot, so that we can see that actually all three sets of data have measurements that are similar. \n",
    "\n",
    "# Using Machine Learning to Classify the flowers into different species\n",
    "\n",
    "Machine learning is a set of statsitical tools that can be used on a computer. We have discussed before how statistical tools are things like data, knowledge so forth and how that can be used to make anyone proficient in any field. The techniques are used to build models that can be trained using data to make predictions when they are fed new data. Machine learning algorithms build their own mathematical models, that they get from the data they have collected, and these are known as \"training data\" then they make predictions on taskes without specifically being told to perform such tasks. One example of this is email filtering. Email filtering is the process of sorting out mail based on specific criteria. Lets say you have over a thousand emails and you only wish to see the ones \"John\" sent you, hes a coworker and has sent important emails regardig a certain project at work, machine learning can be used here to look for all the emails with the sender john, all you would need to do it input his email in the search algorithm. We actually use this type of learning every day in which ever email provider you use. Other uses for email filtering are the seperation of spam email and the avoidance of software viruses. Computational statistics is very similar to machine learning, they both have the same process, using raw data and convert it to knowledge. Computational statistics is used with very intensive statistical methods such as markov chain monte carlo, local regression, kernal density estimation and generalized additive models. Mathematical optimization is also used in machine learning. Mathematical optimization is the process of choosing the best solution out of a set of available alternatives. We can give constraints to the model to make finding the solution that much easier, known as a max and a min. Other methods that are used in machine learning are methods such as Support Vector Machine and Linear Discriminant Analysis.\n",
    "\n",
    "## SVM and Regression Analysis\n",
    "\n",
    "If we look just below we can see our pair-plot and what we see is that in fact a decent amount of our data overlaps with each other and what this means is that it makes it a bit difficult for us to make any inferences between which flower is which. The red data points, the setosa set, deviates more from the measurements of the other two iris flowers, why is this important? This is important in the classification of our species, the deviation in the data can be split up into sections and we do this by using the Support Vector Machine. In machine learning SVM's are supervised learning models with associated learning algorithms that analyze data used for classification and anaylsis regression. Supervised learning models are learning tasks that maps a specific input to an output based on example of output-input pairs. In this set there are always in pairs consisting of an input object and a desired output value. Then once you have fed it the input data it will make an inferred decision which can be used for mapping new examples. There a set of steps that are used in calculating the SVM for a data set, we will generalize them:\n",
    "\n",
    "1. Decide what type of data you will be training and testing. In the case of the iris flower it would be the species, that is what we desire to infer using our computer. \n",
    "2. Gathering the necessary information is very important. Our data set that we have loaded has the info we need, the Pedal and Sepal length and width and this is what is going to be used to classify the desired output, the species.\n",
    "3. Determine what you will be inputting, so here we will be inputting the data of the length and the width.\n",
    "4. Determine what method you will use, for example SVM or LDA(Linear Discriminant Analysis), for this instant we will be using SVM.\n",
    "5. Run the Algorithm. We will be determining our control parameters.\n",
    "6. Evaluate the accuracy of the inference. The higher our accuracy the more correct our prediction, the better the machine has answered or has given our desired output.\n",
    "\n",
    "In statistical modeling, regression analysis is a set of statistical processes for estimating the relationships among different variables. Also something that is rather common with regressional analysis is that it can estimate the conditional expectation of the depedent variable given the independent variables, the average value of the depedent variable when the independent variables are fixed. Regression analysis is mainly used for prediction and forecasting, it overlaps alot with machine learning. Calculating regression can be done with techniques such as linear regression and least squares. Our seaborn module, already installed in python has all of this information already in the program.\n",
    "https://en.wikipedia.org/wiki/Regression_analysis\n",
    "https://medium.com/machine-learning-101/chapter-2-svm-support-vector-machine-theory-f0812effc72"
   ]
  },
  {
   "cell_type": "code",
   "execution_count": 152,
   "metadata": {},
   "outputs": [
    {
     "data": {
      "text/plain": [
       "<seaborn.axisgrid.PairGrid at 0x1a1f854978>"
      ]
     },
     "execution_count": 152,
     "metadata": {},
     "output_type": "execute_result"
    },
    {
     "data": {
      "image/png": "[encoded data removed]",
      "text/plain": [
       "<Figure size 444.75x360 with 4 Axes>"
      ]
     },
     "metadata": {
      "needs_background": "light"
     },
     "output_type": "display_data"
    }
   ],
   "source": [
    "sns.pairplot(irisData,hue= 'species',x_vars=[\"sepal_width\", \"sepal_length\"], \n",
    "                                     y_vars=[\"petal_width\", \"petal_length\"],\n",
    "                                     markers=[\"o\", \"s\", \"D\"], palette='husl')"
   ]
  },
  {
   "cell_type": "markdown",
   "metadata": {},
   "source": [
    "In our grid up above we can see the relationship between all three species of iris flower. The graphs are seperated in four seperate graphs one with the petal length and sepal width, one with the petal length and sepal length, one with sepal width and petal width and finally petal width an sepal length. Our red circles are are represented by the setosa species. The setosa species is larger around the sepal and smaller around the petals we can see this by the direction the swarm plot goes in, it shifts to the right, which means its increasing for the x axis, the sepal width and length. Our green squares are represented by the Versicolor and this one is larger then the Setosa species in petal length and width but shorter in sepal width. Our third species is the Virginica species and over all this one seems to be the largest of the data set, it is larger in petal width and length and around the same with pedal width as setosa and much larger in sepal length then setosa. This set is good because we can see how all of the data sets go with each other and we can see how the SVM model will work. \n",
    "\n",
    "## Linear Discriminant Analysis\n",
    "\n",
    "In order to distinguish between each data set we need to seperate them according to species, just like Richard Fischer we will be using the Linear Discriminant Analysis. LDA is the most important part of this section because it helps us by seperating the data for three data sets, which the SVM does not do it only does it for two data sets. The LDA is done using a bit of linear regression and a bit of optimization. Lets imagien we have a cancer drug, this cancer drug works really well for some people but it also makes people feel worse. If we want to figure our who we can give the drug to we can look at something known as gene expression, our data. The transcription of the gene will determine who the drug can be given to, only one gene is used for simplicity. We have a number line and along that number line we have two directions that the gene can be, it can be in patients with few transcriptions and it can be in patients with more transcriptions. The patients with fewer transcriptions work well the drug, so we can give it to those but the patients with more trancripts we cannot, it doesnt work well with them. Now this seems very good from end to end but the problem is in the middle of this imaginary number line, there isnt a clear cutoff for where the transcripts can be split up. Now what if we use more than one gene to make a decision? This wouldn't be a number line this would be a graph. The graph has points scattered along both axes but how would we distinguish now between gene x and gene y? We need to find a way to optimize the distance between them to find the best fitting mid point, in terms of where all the data lies on the graph. Now since we have two genes we can sort of create a line to seperate the patients into two categories, the ones on which the genes work and dont work, this works fairly well, but if we were to do three genes we could a better result. In our three demensional graph, we have X, Y and Z now, the data seems to be a bit more organized, along with the postion of the patients, which are represented by circles, the size is now a description of how far or close they are, making it much more accurate. When we have three dimensions we use a plane to try and seperate our data sets for the two categories, but visualizing this may be a bit difficult, visualizing three dimensions is hard enough already. For LDA we are really interested in maximizing the seperability between the two groups so we can make the best decisions. Seperability is important for this section of our project becuase we want to distinguish between the different species. If we go back to our example of our two dimensional graph we could reduce it to a one dimensional graph by creating a new axis and it projects the data onto this new axis in a way to maximize the seperation of the two categories, so how does LDA create a new axis? This new axis is created according to two criteria that are considered simultaneously, the first criteria is that once the data is projected onto the new axis we want to maximize the distance between the means. The second criteria is that we want to minimize the variation, which is represented as scatter we consider the two criteria as such:\n",
    "\n",
    "$$ \\frac{(\\mu - \\mu)^2}{s^{2} + s^{2}}$$\n",
    "\n",
    "There are two sets of scatter, s, from the left and the right side of the data, same for the means. The reason why the means are squared is fairly simple, the second mean can sometimes be larger than the first mean so we want to make sure our answer is positive so we simply square them. Lets assign the difference between both of these means as d, for distance, if we optimize the distance between means and the scatter we get a nice separation. So when we optimize our criteria we can get good separation. What if we have more than two dimensions? the process is the same, we create an axis that maximizes the distance between the means for the two categories while minimizing the scatter. So now in our graph, with three sets of data, we create a new axis where all of our patients will rest just like before, but our method is a bit different now. One difference in this new set is how we measure the distances among the means. Instead of just measuring the distance among the two means we first find a point that is central to all of the data, then we measure the distances between a point that is central in each category and the main central point, and now we want to maximize the distance between each category and the central point while minimizing the scatter for each category. and the equation \n",
    "$$ \\frac{d^{2} + d^{2} + d^{2}}{s^{2} + s^{2} + s^{2}}$$\n",
    "Is similar to the one before, but now there are terms for three categories. The second difference is that LDA creates two axes to seperate the data, this is because the three central points in each category define a plane, 2 points made a line and 3 points make a plane. With three points we xan draw two lines to optimize separation\n",
    "\n",
    "![crit](https://i.stack.imgur.com/x1wle.jpg)\n",
    "\n",
    "(image by stats.stackexchange.com) Here we can see how the two lines are maximizing the distance between all three data points. This is a very good way to show the separation between our data. We will now do our prepocessing of our data along with all the necessary requirements for predicting.\n",
    "\n",
    "https://seaborn.pydata.org/generated/seaborn.pairplot.html\n",
    "https://en.wikipedia.org/wiki/Linear_discriminant_analysis"
   ]
  },
  {
   "cell_type": "code",
   "execution_count": 153,
   "metadata": {},
   "outputs": [],
   "source": [
    "from sklearn import preprocessing\n",
    "le = preprocessing.LabelEncoder()\n",
    "irisData = irisData.copy()\n",
    "irisData['species'] = le.fit_transform(irisData['species'])"
   ]
  },
  {
   "cell_type": "code",
   "execution_count": 154,
   "metadata": {},
   "outputs": [
    {
     "data": {
      "text/html": [
       "<div>\n",
       "<style scoped>\n",
       "    .dataframe tbody tr th:only-of-type {\n",
       "        vertical-align: middle;\n",
       "    }\n",
       "\n",
       "    .dataframe tbody tr th {\n",
       "        vertical-align: top;\n",
       "    }\n",
       "\n",
       "    .dataframe thead th {\n",
       "        text-align: right;\n",
       "    }\n",
       "</style>\n",
       "<table border=\"1\" class=\"dataframe\">\n",
       "  <thead>\n",
       "    <tr style=\"text-align: right;\">\n",
       "      <th></th>\n",
       "      <th>sepal_length</th>\n",
       "      <th>sepal_width</th>\n",
       "      <th>petal_length</th>\n",
       "      <th>petal_width</th>\n",
       "      <th>species</th>\n",
       "    </tr>\n",
       "  </thead>\n",
       "  <tbody>\n",
       "    <tr>\n",
       "      <th>0</th>\n",
       "      <td>5.1</td>\n",
       "      <td>3.5</td>\n",
       "      <td>1.4</td>\n",
       "      <td>0.2</td>\n",
       "      <td>0</td>\n",
       "    </tr>\n",
       "    <tr>\n",
       "      <th>1</th>\n",
       "      <td>4.9</td>\n",
       "      <td>3.0</td>\n",
       "      <td>1.4</td>\n",
       "      <td>0.2</td>\n",
       "      <td>0</td>\n",
       "    </tr>\n",
       "    <tr>\n",
       "      <th>2</th>\n",
       "      <td>4.7</td>\n",
       "      <td>3.2</td>\n",
       "      <td>1.3</td>\n",
       "      <td>0.2</td>\n",
       "      <td>0</td>\n",
       "    </tr>\n",
       "    <tr>\n",
       "      <th>3</th>\n",
       "      <td>4.6</td>\n",
       "      <td>3.1</td>\n",
       "      <td>1.5</td>\n",
       "      <td>0.2</td>\n",
       "      <td>0</td>\n",
       "    </tr>\n",
       "    <tr>\n",
       "      <th>4</th>\n",
       "      <td>5.0</td>\n",
       "      <td>3.6</td>\n",
       "      <td>1.4</td>\n",
       "      <td>0.2</td>\n",
       "      <td>0</td>\n",
       "    </tr>\n",
       "  </tbody>\n",
       "</table>\n",
       "</div>"
      ],
      "text/plain": [
       "   sepal_length  sepal_width  petal_length  petal_width  species\n",
       "0           5.1          3.5           1.4          0.2        0\n",
       "1           4.9          3.0           1.4          0.2        0\n",
       "2           4.7          3.2           1.3          0.2        0\n",
       "3           4.6          3.1           1.5          0.2        0\n",
       "4           5.0          3.6           1.4          0.2        0"
      ]
     },
     "execution_count": 154,
     "metadata": {},
     "output_type": "execute_result"
    }
   ],
   "source": [
    "irisData.head()"
   ]
  },
  {
   "cell_type": "markdown",
   "metadata": {},
   "source": [
    "Our label encoder module lets use change the species from names into numbers, specifically 0, 1, and 2 and with that we can now use the rest of our functions, becuase we cant use them if our vectors dont have only numbers."
   ]
  },
  {
   "cell_type": "code",
   "execution_count": 155,
   "metadata": {},
   "outputs": [],
   "source": [
    "from sklearn.svm import SVC\n",
    "svc_model = SVC()"
   ]
  },
  {
   "cell_type": "code",
   "execution_count": 156,
   "metadata": {},
   "outputs": [],
   "source": [
    "X = irisData.drop(['species'], axis=1)"
   ]
  },
  {
   "cell_type": "code",
   "execution_count": 157,
   "metadata": {},
   "outputs": [],
   "source": [
    "y = irisData['species']"
   ]
  },
  {
   "cell_type": "code",
   "execution_count": 158,
   "metadata": {},
   "outputs": [],
   "source": [
    "from sklearn.model_selection import train_test_split"
   ]
  },
  {
   "cell_type": "markdown",
   "metadata": {},
   "source": [
    "Usually when models are trained we need to also test them. We have a couple of disadvantages if we use all of our data at hand. First we dont have to test our model immediately. Second we can overtrain our model i.e. it can be too specific to the model we had. We have to test the model to see whether it performs without bias. This issue is called variance-bias tradeoff. What we will do here is split up the data set, we will keep a lot of the data for training the model. But we will keep some of it aside to test our model. The sampling has to be done randomly, this process is called cross-validation. We will use the built in function 'train_test_split' to do this. "
   ]
  },
  {
   "cell_type": "code",
   "execution_count": 159,
   "metadata": {},
   "outputs": [],
   "source": [
    "X_train, X_test, y_train, y_test = train_test_split(X, y, test_size=0.30)"
   ]
  },
  {
   "cell_type": "markdown",
   "metadata": {},
   "source": [
    "Now we want to fit and train the model we had imported before. Fitting is the actual training process here."
   ]
  },
  {
   "cell_type": "code",
   "execution_count": 160,
   "metadata": {},
   "outputs": [
    {
     "data": {
      "text/plain": [
       "SVC(C=1.0, cache_size=200, class_weight=None, coef0=0.0,\n",
       "  decision_function_shape='ovr', degree=3, gamma='auto', kernel='rbf',\n",
       "  max_iter=-1, probability=False, random_state=None, shrinking=True,\n",
       "  tol=0.001, verbose=False)"
      ]
     },
     "execution_count": 160,
     "metadata": {},
     "output_type": "execute_result"
    }
   ],
   "source": [
    "svc_model.fit(X_train, y_train)"
   ]
  },
  {
   "cell_type": "markdown",
   "metadata": {},
   "source": [
    "Now we will be using our predictions module to predict our data set. Now, we have trained our model. We would like to test it. We have to make some predictions. We will use the X_test data to make our prediction. We already have the y_test which tells us the species of the flowers whose data is given by X_test. We will then compare our predictions with y_test to see how well we have done. "
   ]
  },
  {
   "cell_type": "code",
   "execution_count": 161,
   "metadata": {},
   "outputs": [],
   "source": [
    "predictions = svc_model.predict(X_test)"
   ]
  },
  {
   "cell_type": "code",
   "execution_count": 162,
   "metadata": {},
   "outputs": [
    {
     "name": "stdout",
     "output_type": "stream",
     "text": [
      "[[11  0  0]\n",
      " [ 0 16  0]\n",
      " [ 0  0 18]]\n"
     ]
    }
   ],
   "source": [
    "from sklearn.metrics import confusion_matrix\n",
    "print(confusion_matrix(y_test, predictions))"
   ]
  },
  {
   "cell_type": "code",
   "execution_count": 163,
   "metadata": {},
   "outputs": [
    {
     "data": {
      "text/plain": [
       "array([2])"
      ]
     },
     "execution_count": 163,
     "metadata": {},
     "output_type": "execute_result"
    }
   ],
   "source": [
    "svc_model.predict([[2,3,5,4]])"
   ]
  },
  {
   "cell_type": "markdown",
   "metadata": {},
   "source": [
    "Alright so now we have loaded all of our data and tested it and as well as trained it, when we make our computer predict which flower it is we get a result of virginica. Our confusion matrix, also known as an error matrix is a specific table layout that allows visualization of the performance of an algorithm. Each row in the matrix has a different representation, they predict the instances in a predicted class while each column represents the instances in an actual class. We can calculate our values of precision, recall and f1-score by doing this. In pattern recognition precision is the fraction of relevant instances among the retrieved instances, while recall is the fraction of relevant instances that have been retrieved over the total amount of relevant instances. Both precision and recall are therefore based on an understanding and measure of relevence. In statistical analysis the f1 score is the measure of a tests accuracy. It considers both the precision and recall of the test to compute the score. We can calculate as follows:\n",
    "\n",
    "$$precision = \\frac{total \\ true \\ positives}{total \\ true \\ positives + total \\ false \\ positives},$$\n",
    "\n",
    "$$ recall = \\frac{total \\ true \\ positives}{total \\ true \\ positives + total \\ false \\ negatives}$$\n",
    "\n",
    "and \n",
    "\n",
    "$$f_1 \\ score = 2 \\ \\frac{precision\\times recall}{precision + recall}.$$\n",
    "https://en.wikipedia.org/wiki/Confusion_matrix"
   ]
  },
  {
   "cell_type": "code",
   "execution_count": 164,
   "metadata": {},
   "outputs": [
    {
     "name": "stdout",
     "output_type": "stream",
     "text": [
      "             precision    recall  f1-score   support\n",
      "\n",
      "          0       1.00      1.00      1.00        11\n",
      "          1       1.00      1.00      1.00        16\n",
      "          2       1.00      1.00      1.00        18\n",
      "\n",
      "avg / total       1.00      1.00      1.00        45\n",
      "\n"
     ]
    }
   ],
   "source": [
    "print(classification_report(y_test, predictions))"
   ]
  },
  {
   "cell_type": "markdown",
   "metadata": {},
   "source": [
    "From our classification up above we can tell that our data set is fairly accurate, for 92 percent, 91 percent and 91 percent, the values tend to change every time you load them. Now since we did it using our SVM method we want to try using our LDA method and see if we can also get accurate results for our prediction."
   ]
  },
  {
   "cell_type": "code",
   "execution_count": 165,
   "metadata": {},
   "outputs": [],
   "source": [
    "from sklearn import preprocessing\n",
    "from sklearn.discriminant_analysis import LinearDiscriminantAnalysis\n",
    "lda_model = LinearDiscriminantAnalysis()"
   ]
  },
  {
   "cell_type": "code",
   "execution_count": 166,
   "metadata": {},
   "outputs": [],
   "source": [
    "le = preprocessing.LabelEncoder()\n",
    "IrisData = irisData.copy()\n",
    "IrisData['species'] = le.fit_transform(irisData['species'])\n",
    "#IrisData.head()"
   ]
  },
  {
   "cell_type": "code",
   "execution_count": 167,
   "metadata": {},
   "outputs": [
    {
     "name": "stdout",
     "output_type": "stream",
     "text": [
      "[[14  0  0]\n",
      " [ 0 16  1]\n",
      " [ 0  0 14]]\n",
      "             precision    recall  f1-score   support\n",
      "\n",
      "          0       1.00      1.00      1.00        14\n",
      "          1       1.00      0.94      0.97        17\n",
      "          2       0.93      1.00      0.97        14\n",
      "\n",
      "avg / total       0.98      0.98      0.98        45\n",
      "\n"
     ]
    }
   ],
   "source": [
    "from sklearn.model_selection import train_test_split\n",
    "from sklearn.metrics import confusion_matrix\n",
    "from sklearn.metrics import classification_report\n",
    "\n",
    "\n",
    "X1 = IrisData.drop(['species'], axis=1)\n",
    "y1 = irisData['species']\n",
    "X_train, X_test, y_train, y_test = train_test_split(X, y, test_size=0.30)\n",
    "lda_model.fit(X_train, y_train)\n",
    "predictions1 = lda_model.predict(X_test)\n",
    "print(confusion_matrix(y_test, predictions1))\n",
    "print(classification_report(y_test, predictions1))"
   ]
  },
  {
   "cell_type": "code",
   "execution_count": 168,
   "metadata": {},
   "outputs": [],
   "source": [
    "#lda_model.predict([[5,4,3,2]])"
   ]
  },
  {
   "cell_type": "markdown",
   "metadata": {},
   "source": [
    "Our precision seems to be a bit better for our LDA then for our SVM model but the accuracies do change becuase the sets are random!\n",
    "\n",
    "\n",
    "# Conclusion\n",
    "\n",
    "In our final project we have scratched the surface of what the future hold for machines with data and machine learning. Data is the information that is all around us quantified and applied to whatever we desire. We have data on cheese, the processes of how cheese is made and what animals produce what type of cheese etc. Data is the thing that everyone needs to become a professional in any field. Data is the collection of what is arond us. Data analysis is important and relevant in today's age. While there are issues with freedom and the availability of reliable data sources, the time spent in collecting, analyzing and interpreting data is overwhelming. Large industries are looking to make smarter decisions by analyzing data, researchers are trying to cure diseases with data analysis, engineers try to build better machines by gathering data as well as analyzing them, social scientists are tackling some of the most imminent problems today like racism, poverty, crime etc. by analyzing and processing data. Data trains athletes better, make shopping easier, find you better routes while driving, decide which movies or shows Netflix has, recommends shows to you and so on. Data is an integral part of what we do every day. Without the collection and the analyzing of data we wouldnt have computers today, we need so much info to be able to create the world wide web its staggering. Data is used for determining the positions of stars and neighboring planets, data is beautiful.\n",
    "\n",
    "We used our data to analyze and make predictions is the second half of our last project and we got to see how different methods analyze data and how they are implimented. We talked about the Support Vector Machine method and how it optimizes the distances between two seperate data sets and then draws the most optimal line between those sets and then we can group them, this works very well for our data set. Our other method that we decided to implement what the Linear Discriminant Analysis and it was kind of a step up from our SVM method becuase this method could be done for more than two data sets. The method was fairly simpe when you got down to it you basically graph all three of your sets on a 2-dimensional graph and find the center point of all the data and then find the mean of the each data set individually and finally you can meet the mean of all the data sets with the most center point and make you division lines there. Not a very difficult method, and i think it works a bit cleaner than our SVM method. Machine learning is one step closer to A.I.'s and one step closer to having robots do coding projects for us!"
   ]
  },
  {
   "cell_type": "markdown",
   "metadata": {},
   "source": [
    "# Work Cited\n",
    "\n",
    "- https://seaborn.pydata.org/generated/seaborn.pairplot.html\n",
    "- https://en.wikipedia.org/wiki/Bulb\n",
    "- https://en.wikipedia.org/wiki/Data_mining\n",
    "- https://en.wikipedia.org/wiki/Data_analysis\n",
    "- https://en.wikipedia.org/wiki/Iris_flower_data_set\n",
    "- https://en.wikipedia.org/wiki/Data\n",
    "- https://en.wikipedia.org/wiki/Confusion_matrix\n",
    "- https://en.wikipedia.org/wiki/Linear_discriminant_analysis\n",
    "-https://medium.com/machine-learning-101/chapter-2-svm-support-vector-machine-theory-f0812effc72"
   ]
  },
  {
   "cell_type": "code",
   "execution_count": null,
   "metadata": {},
   "outputs": [],
   "source": []
  }
 ],
 "metadata": {
  "kernelspec": {
   "display_name": "Python 3",
   "language": "python",
   "name": "python3"
  },
  "language_info": {
   "codemirror_mode": {
    "name": "ipython",
    "version": 3
   },
   "file_extension": ".py",
   "mimetype": "text/x-python",
   "name": "python",
   "nbconvert_exporter": "python",
   "pygments_lexer": "ipython3",
   "version": "3.7.0"
  }
 },
 "nbformat": 4,
 "nbformat_minor": 2
}
