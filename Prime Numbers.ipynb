{
 "cells": [
  {
   "cell_type": "markdown",
   "metadata": {},
   "source": [
    "# Prime Numbers and their Applications"
   ]
  },
  {
   "cell_type": "markdown",
   "metadata": {},
   "source": [
    "## Introduction"
   ]
  },
  {
   "cell_type": "markdown",
   "metadata": {},
   "source": [
    "Prime numbers are vastly used in our everyday lives becuase of how simple they are. Their simplicity makes it near impossible to break down and you can produce so much with something so simple. Everytime you pick up your phone you are using prime numbers, algorithms are created using prime numbers for communication security and for transmission of information. mathematicians and computer scientists alike find it almost impossible to generate an efficient formula for factoring numbers into primes, which is why they're so good for security purposes. It is not to say we do not have ways of factoring prime numbers but when we try to factor a 300-digit number or a 800-digit number, the algorithms we've formulated to factor lets say the number 1246, the algorithm would take an insane amount of time to factor the 300 or 800 digit number. Since there is a limit to the amount of prime numbers we can factor that makes it perfect for security, since no one can get to the core. \n",
    "\n",
    "   A prime number is a number that is greater than 1 and cannot be written as a product of two natural numbers.\n",
    "Some examples of Prime Numbers are:\n",
    "(2,3,5,7,11,13...)\n",
    "   Numbers that are greater than 1 and are not prime are considered to be composite numbers. Examples of Composite numbers are:\n",
    "(4,6,8,9...) the reason why they are considered composite is becasue they can be broken down into smaller natural numbers that are smaller than it.\n",
    "\n",
    "For example:\n",
    "$9 = 3 \\times 3$, $16 = 4 \\times 4$, $64 = 4 \\times 4\\times 4\\times 4$  and so on.\n",
    "\n",
    "\n",
    "Our first Project in Computational Mathematics consists of creating multiple functions identifying uses of prime numbers.\n",
    "\n",
    "Before we start on the project we needed to create an algorithm to check whether an integer n is prime or not.  An integer is a whole number that is not a fraction.  The Function was called CheckPrime.\n",
    "\n",
    "https://www.extremetech.com/extreme/219570-what-are-prime-numbers-and-why-are-they-so-vital-to-modern-life"
   ]
  },
  {
   "cell_type": "markdown",
   "metadata": {},
   "source": [
    "###  CheckPrime Function"
   ]
  },
  {
   "cell_type": "code",
   "execution_count": 102,
   "metadata": {
    "collapsed": true
   },
   "outputs": [],
   "source": [
    "def CheckPrime(n=3):\n",
    "    \"\"\"Function to check if the integer 'n' inputted is a prime number.\"\"\"\n",
    "    out = 1 # We assume the integer 'n' is already a prime number in this function and if so the function will return 1\n",
    "    if (n < 2):\n",
    "        #print(\"Enter a number that is larger than 2.\")\n",
    "        out = -1\n",
    "        return out\n",
    "    n = round(n)\n",
    "    #The following loop is designed to check if the remainder of some integer i when divided by n is zero or not . If so than n is composite.\n",
    "    \n",
    "    for i in list(range(2, int(n**0.5)+1)): # for i in this 'list' that goes from 2 to n, if your n is perfectly divisable by your i then out = 0. We use the 'n**.05' to make our code run faster.\n",
    "        if(n%i == 0):#if n divides into i perfectly with a remainder of 0 than the function will return 0.\n",
    "            out = 0\n",
    "            return out\n",
    "    return out"
   ]
  },
  {
   "cell_type": "markdown",
   "metadata": {},
   "source": [
    "The function above was pivotal in our proceedings with our project since we needed to make sure from here on out if the numbers we were inputting were prime or not, with this part of the project provided by our professor we were allowed to tweek is to our liking to make it as efficient as possible to make it that much easier for the problems ahead. For example when you input for example 6. CheckPrime(6) will return 0 because 6 is a composite number, since it is composed of [2,3]."
   ]
  },
  {
   "cell_type": "markdown",
   "metadata": {},
   "source": [
    "# Part1"
   ]
  },
  {
   "cell_type": "markdown",
   "metadata": {},
   "source": [
    "  Part 1 (i) of this project is written to output a list of prime numbers that are less than n, not including n. We begin with our function 'ListPrimes' which is meant to take in an integer n. Before we begin we want to make sure our outputs, results, are being put into a list so we write primeList = [ ] which inserts any results we obtain from our code into a list of the name primeList. We begin with a condition \"if $n < 2$: print(\"Enter a number that is larger than 2.\") which states that if you try to input a number less than 2 it will let you know that you cannot try that number, this is made because we only want positive integers and also numbers larger than 2 becasue 1(mention why 1 is not a prime in the intro) is not considered a prime number. \n",
    "  \n",
    "  Next the n = round(n) function is meant to deter any floating numbers we may have as an input(Explain what floating numbers are in intro) so an example of this is, lets say you want to input ListPrimes(9.7) this would cause an error in the code because python doesn't like decimals. The round(n) function then rounds 9.7 to 10 and then continues to run smoothly. Our next condition is a for loop which is going to take a variable 'm' in the function list from the range of 2 to n. Next comes our 'test' which is meant to test the input n with our CheckPrime() function we wrote above. We need to call it first, so we assign test to our CheckPrime() function so that when we input our integer n the code calls the CheckPrime() above and checks all the integers smaller than our n and determines if they prime numbers or not. After we conclude which integers are prime we want to add them to our empty list primeList = [] so we include the function primeList.append() which appends, adds, all the integers that are prime and less than n to the list primeList = []. Finally our return function spits out a list of prime numbers that are less than n, if all the code before it passed all of our conditions."
   ]
  },
  {
   "cell_type": "code",
   "execution_count": 48,
   "metadata": {
    "collapsed": true
   },
   "outputs": [],
   "source": [
    "def ListPrimes(n=3):\n",
    "    \"\"\"Python function ListPrimes takes an integers n as input and returns all the primes smaller than n,\n",
    "       by referring to the CheckPrime function that was previously created, the output should return a list\"\"\"\n",
    "    primeList = []\n",
    "    if (n < 2):\n",
    "        #print(\"Enter a number that is larger than 2.\")\n",
    "        out = -1\n",
    "\n",
    "        n = round(n)\n",
    "\n",
    "    for m in list(range(2, n)): #This is a list from the range 2 to the square root of n plus 1.\n",
    "        test = CheckPrime(m) #Tells python to check if 'm' is a prime\n",
    "        if (test == 1): #If 'm' a prime it will return 1\n",
    "            primeList.append(m) #if it returns 1 it will append 'm'to the list.\n",
    "        \n",
    "    return primeList"
   ]
  },
  {
   "cell_type": "markdown",
   "metadata": {},
   "source": [
    "#### If we implement our code correctly we should recieve a list of prime numbers less than n, lets give it a try with the number 1000."
   ]
  },
  {
   "cell_type": "code",
   "execution_count": 42,
   "metadata": {
    "collapsed": false
   },
   "outputs": [
    {
     "name": "stdout",
     "output_type": "stream",
     "text": [
      "[2, 3, 5, 7, 11, 13, 17, 19, 23, 29, 31, 37, 41, 43, 47, 53, 59, 61, 67, 71, 73, 79, 83, 89, 97, 101, 103, 107, 109, 113, 127, 131, 137, 139, 149, 151, 157, 163, 167, 173, 179, 181, 191, 193, 197, 199, 211, 223, 227, 229, 233, 239, 241, 251, 257, 263, 269, 271, 277, 281, 283, 293, 307, 311, 313, 317, 331, 337, 347, 349, 353, 359, 367, 373, 379, 383, 389, 397, 401, 409, 419, 421, 431, 433, 439, 443, 449, 457, 461, 463, 467, 479, 487, 491, 499, 503, 509, 521, 523, 541, 547, 557, 563, 569, 571, 577, 587, 593, 599, 601, 607, 613, 617, 619, 631, 641, 643, 647, 653, 659, 661, 673, 677, 683, 691, 701, 709, 719, 727, 733, 739, 743, 751, 757, 761, 769, 773, 787, 797, 809, 811, 821, 823, 827, 829, 839, 853, 857, 859, 863, 877, 881, 883, 887, 907, 911, 919, 929, 937, 941, 947, 953, 967, 971, 977, 983, 991, 997]\n"
     ]
    }
   ],
   "source": [
    "l = ListPrimes(1000)\n",
    "print(l)"
   ]
  },
  {
   "cell_type": "markdown",
   "metadata": {},
   "source": [
    "#### Now lets try a much larger number, 2000."
   ]
  },
  {
   "cell_type": "code",
   "execution_count": 44,
   "metadata": {
    "collapsed": false
   },
   "outputs": [
    {
     "name": "stdout",
     "output_type": "stream",
     "text": [
      "[2, 3, 5, 7, 11, 13, 17, 19, 23, 29, 31, 37, 41, 43, 47, 53, 59, 61, 67, 71, 73, 79, 83, 89, 97, 101, 103, 107, 109, 113, 127, 131, 137, 139, 149, 151, 157, 163, 167, 173, 179, 181, 191, 193, 197, 199, 211, 223, 227, 229, 233, 239, 241, 251, 257, 263, 269, 271, 277, 281, 283, 293, 307, 311, 313, 317, 331, 337, 347, 349, 353, 359, 367, 373, 379, 383, 389, 397, 401, 409, 419, 421, 431, 433, 439, 443, 449, 457, 461, 463, 467, 479, 487, 491, 499, 503, 509, 521, 523, 541, 547, 557, 563, 569, 571, 577, 587, 593, 599, 601, 607, 613, 617, 619, 631, 641, 643, 647, 653, 659, 661, 673, 677, 683, 691, 701, 709, 719, 727, 733, 739, 743, 751, 757, 761, 769, 773, 787, 797, 809, 811, 821, 823, 827, 829, 839, 853, 857, 859, 863, 877, 881, 883, 887, 907, 911, 919, 929, 937, 941, 947, 953, 967, 971, 977, 983, 991, 997, 1009, 1013, 1019, 1021, 1031, 1033, 1039, 1049, 1051, 1061, 1063, 1069, 1087, 1091, 1093, 1097, 1103, 1109, 1117, 1123, 1129, 1151, 1153, 1163, 1171, 1181, 1187, 1193, 1201, 1213, 1217, 1223, 1229, 1231, 1237, 1249, 1259, 1277, 1279, 1283, 1289, 1291, 1297, 1301, 1303, 1307, 1319, 1321, 1327, 1361, 1367, 1373, 1381, 1399, 1409, 1423, 1427, 1429, 1433, 1439, 1447, 1451, 1453, 1459, 1471, 1481, 1483, 1487, 1489, 1493, 1499, 1511, 1523, 1531, 1543, 1549, 1553, 1559, 1567, 1571, 1579, 1583, 1597, 1601, 1607, 1609, 1613, 1619, 1621, 1627, 1637, 1657, 1663, 1667, 1669, 1693, 1697, 1699, 1709, 1721, 1723, 1733, 1741, 1747, 1753, 1759, 1777, 1783, 1787, 1789, 1801, 1811, 1823, 1831, 1847, 1861, 1867, 1871, 1873, 1877, 1879, 1889, 1901, 1907, 1913, 1931, 1933, 1949, 1951, 1973, 1979, 1987, 1993, 1997, 1999]\n"
     ]
    }
   ],
   "source": [
    "l = ListPrimes(2000)\n",
    "print(l)"
   ]
  },
  {
   "cell_type": "markdown",
   "metadata": {},
   "source": [
    "  Part 1 (ii) of our project builds upon part 1 (i), now we have to write a function nPrimes() which takes an integer n as input and returns the first n prime numbers. In basic terms this part of the project is telling us to input nPrimes(20) and we should recieve the first 20 prime numbers. The output should also be in a list. We begin with our function nPrimes(): and immediately we write 'out = 1,' the reason why we do this is becasue we want to assume our first input is correct, this detail is important to the code. Assume the code is like a game, everytime you defeat a boss you continue to the next level. In this game our conditional statements are the bosses and everytime a value is correct it passes onto the next level, or defeats a 'boss,' the ultimate goal of the 'game' is to make it to the list, which is how you win!\n",
    "\n",
    "  Next we make an empty list [] assigned to our new function nPrimes so that our outputs can go into a list of the name nPrimes after we implement our code. We introduce the variable k, and assign the value of 1 to it becuase we will need it later as an iteration which will continue to add one to itself, this is how we keep getting new 'players' to our 'game,' everytime a value,or player, makes it to the list, the function, will create another value, by adding 1 to the previous k, and that 'player' begins the quest to make onto the list, ultimately checking whether it is a prime or not. \n",
    "\n",
    "  To begin the layout of these bosses, or challenges, we start with a while loop, it is a control flow statement, which is the order in which statements, function calls and so forth, are excecuted or evauated. Our while loop will check a value in our nPrimes function. The len() is a string function that returns the length of a specifc string, in this case the nPrimes list, the value that we input for n. The while loop will check if the value of k is a prime by calling upon our old yet raliable function CheckPrime() and if the value is a prime it will append it to the list nPrime. The function then tells K to add a value of 1 to itself and to begin the process again, checking to see if the value is a prime and if it is a prime then it will append the value to the string and henceforth until the value of n is reached, then it will return the list of the n prime numbers in order from largest to smallest.\n",
    "  \n",
    "  https://en.wikipedia.org/wiki/Control_flow"
   ]
  },
  {
   "cell_type": "code",
   "execution_count": 94,
   "metadata": {
    "collapsed": true
   },
   "outputs": [],
   "source": [
    "def nPrimes(n=3):\n",
    "    \"\"\"Function 'nPrimes(n)' takes an integer n as input and returns the first n prime numbers. \n",
    "    The output should be a variable of the type list.\"\"\"\n",
    "    out = 1\n",
    "    nPrimes = []\n",
    "    k = 1\n",
    "    while (len(nPrimes) < n):\n",
    "        test = CheckPrime(k)\n",
    "        if (test == 1):\n",
    "            nPrimes.append(k)\n",
    "        k = k + 1        \n",
    "    return nPrimes"
   ]
  },
  {
   "cell_type": "markdown",
   "metadata": {},
   "source": [
    "#### Lets try an example of nPrimes(20)"
   ]
  },
  {
   "cell_type": "code",
   "execution_count": 54,
   "metadata": {
    "collapsed": false
   },
   "outputs": [
    {
     "data": {
      "text/plain": [
       "[2, 3, 5, 7, 11, 13, 17, 19, 23, 29, 31, 37, 41, 43, 47, 53, 59, 61, 67, 71]"
      ]
     },
     "execution_count": 54,
     "metadata": {},
     "output_type": "execute_result"
    }
   ],
   "source": [
    "nPrimes(20)"
   ]
  },
  {
   "cell_type": "markdown",
   "metadata": {},
   "source": [
    "# Part 2"
   ]
  },
  {
   "cell_type": "markdown",
   "metadata": {},
   "source": [
    "Part 2 of our project gets a bit more complicated in the requirements, some more research was requuired on the parts of the students to get a general gist of what was being asked of us. An integer $n > 1$ can be written as a unique product of primes $n = p1 \\times p2 \\times p3 ... \\times pm$. \n",
    "\n",
    "For example the number $81 = 3\\times 3\\times 3\\times 3$,\n",
    "\n",
    "can be broken down into a unique product of primes, in this case 3. Unique Prime factorization is what we are accomplishing here, the requirements of Unique Prime Factorization are fairly simple. A large number can be broken down into primes that can be multiplied together to form the original number, the numbers have to be unique, they cannot be composite, like 6 for example because 6 cn be broken donw further. We get these values by dividing the original number by a set of prime numbers until they cannot be divided any further.\n",
    "\n",
    "  We are to write a python function primeDivisors( ) which accepts an integer n and returns the prime divisors, unique, as the output. The output must be of a form list, just like before.  We will also be including the bonus part of part 2 which is asking to make a function that accepts n and returns two outputs the first being a list of containing all the UNIQUE prime divisors. The second output must be a list of how many times each of those divisors appear, an example of this is the number $16$ which can be factored to \n",
    "  \n",
    "  $ 2\\times 2\\times 2\\times 2$, \n",
    "  \n",
    "  In the function it will just output the unique prime 2 in one list and the number 4, the times it appears, in another list. \n",
    "  \n",
    "  We define out function primeDivisors( ) and create our first empty list primeDivisors = [ ] and immedietley we create a second list Multiplicity = [ ], the first list will contain the unique prime factors of our input and the second list will output how many times said unique prime appeared. We continue to implement the round function to avoid those pesky floating numbers(2.0,5.0,7.0) since python does not like them. \n",
    "  \n",
    "  Our first if statement is making sure we dont input a number less than $2$ since they would not be prime numbers. If we do input it will print [Try Again]. Our next statement states that for an integer $i$ in the range from $2$ to $d$, $i$ will go through all the integers from 2 to $d$ dividing into d and seeing which primes are divisible. Next $d$ modulus(%) $i$ will output the ramainder of the two integers, we have that set to $0$, because if the remainder of the division of $d$ and $i$ is $0$ then that suggests the input is a composite number and we need to break it down even more so we need more conditions to satisfy that. We assign the value of $0$ to algortom and it will be our counter for how many times the unique divisor is repeated.\n",
    "  \n",
    "  We input our first while loop which states that in the event that $d$ % $i$ == $0$ to divide $d$ % $i$ once more and to round it to the nearest integer, at this point we want to add a factor of one to our algortom function to keep track of how many times a divisor was repeated, if the divisor was not repeated it will append, add, said divisor and try the next divisor. The Multiplicity.append(algortom) function will keep a list of how many appearances the prime number appeared, this can only be done once we are finished using the while loop for the value in place.\n",
    "  \n",
    "  Finally when $d$ % $i$ outputs a 1 our if statement tells the alogirtmh to break and to return our primeDivisors list and our Multiplicity list."
   ]
  },
  {
   "cell_type": "code",
   "execution_count": 58,
   "metadata": {
    "collapsed": true
   },
   "outputs": [],
   "source": [
    "def primeDivisors(d): \n",
    "    \"\"\"A function that takes an input d and returns the prime divisors as an output\"\"\" \n",
    "    primeDivisors = []\n",
    "    Multiplicity = []\n",
    "    d = round(d)\n",
    "    if (d < 2):\n",
    "        print(\"Try Again\")\n",
    "    for i in range(2, d):\n",
    "        if(d%i == 0): #Checks if remainder of d/i is 0 or another decimal\n",
    "            algortom = 0\n",
    "            while(d%i == 0):\n",
    "                d = d/i\n",
    "                d = round(d)\n",
    "                algortom = algortom + 1 # checks to see how many times a unique was repeated \n",
    "            primeDivisors.append(i)\n",
    "            Multiplicity.append(algortom) #adds repeated unique prime in a list\n",
    "                    \n",
    "        if (d == 1): #if it equals to 1 then its ok\n",
    "            break\n",
    "    return primeDivisors, Multiplicity"
   ]
  },
  {
   "cell_type": "markdown",
   "metadata": {},
   "source": [
    "### Lets try an Example! primeDivisors(18)"
   ]
  },
  {
   "cell_type": "code",
   "execution_count": 59,
   "metadata": {
    "collapsed": false
   },
   "outputs": [
    {
     "data": {
      "text/plain": [
       "([2, 3], [1, 2])"
      ]
     },
     "execution_count": 59,
     "metadata": {},
     "output_type": "execute_result"
    }
   ],
   "source": [
    "primeDivisors(18)"
   ]
  },
  {
   "cell_type": "markdown",
   "metadata": {},
   "source": [
    "As you can see above we have two lists the first has the numbers [2, 3] and the second has the numbers [1, 2].  Now we are going to check to see if it is correct. The prime Factorization of 18 is as follows \n",
    "\n",
    "$18 = 2\\times 3\\times 3$, \n",
    "\n",
    "As you can see 2 and 3 are our divisors which is correct, we can also see that 2 was repeated once and 3 was repeated twice, just how it is in the second list, so our code works! "
   ]
  },
  {
   "cell_type": "markdown",
   "metadata": {},
   "source": [
    "# Part 3"
   ]
  },
  {
   "cell_type": "markdown",
   "metadata": {},
   "source": [
    "Lets say we have three integers $A, B  &  C$ if A and B are divided by C and have the same remainder we say that A is congruent to B modulo C\n",
    "this is a concept where numbers \"wrap around\" upon reaching a certain value.  A great real life application of this is a clock, a day is divided into two 12 hour periods. If the time is $6:00$ , 8 hours later it will be $2:00$. At first this doesnt seem to make sense since $6 + 8 = 14$ but this is not correct since time \"Wraps around\" every 12 hours so we can confidently say that 12 is congruent to 0 modulo 12, since every time you pass 12 the clock resets to 0. \n",
    "\n",
    "  The congruence relation can be explained through arithmetic operations and its relevance to prime numbers as well with the equation:\n",
    "  \n",
    "  $(a)^p \\equiv a( modp)$\n",
    "  \n",
    "  for any integer $p > a > 0$.\n",
    "  \n",
    "  Which states that any integer a to the power of a prime is equivalent to a mod p. so for example \n",
    "  \n",
    "  $(2)^3 = 8 \\equiv 2(mod 3)$\n",
    "  \n",
    "  So 8 is equivalent to 2 module 3 and if you divide 8 and 2 by 3 you get 2.6667 and 0.6667 respectively.\n",
    "  \n",
    "  We can translate that into an aquation that will be pivotal in our code as follows:\n",
    "  \n",
    "  $pow(a,p,p)$\n",
    "  \n",
    "  Which will calculate the remainder of the division of $(a)^p$ with $p$.\n",
    "  \n",
    "  In part (i) we are asked to write a function listPrimesLike() which takes an n and returns a list or prime-like numbers, not all prime, less than n using the congruence relation we just described.\n",
    "  We define out function, like how you always do in python and we begin with a check = 1 becasue we want to assume our initial input is already a prime number, thats a good beginning point for us. our if statement is fairly similar to the ones before, we want our input to be larger than 2 or else this wont work and we make the code spit out '-1' if we do manage to input a value less than 2. We always return out because 'out' returns the values that tells us whether we did good or bad.  Our for argument states that for and a in range from $i$ all the way to our input $p$ we want to make sure that our $p$ is a prime and if we use the congruence relation we described above we can get it correct almost every time so by inserting (pow(a, p, p) into our code we get a part of it but we need to compare it to another value to make sure p is always a prime so we have to make sure that\n",
    "  \n",
    "  $(a)^p$ % $p$ $\\not=$ $(a)^p$ % $p$  \n",
    "  \n",
    "  Because if the remainder of $(a)^p$ % $p$ does not equal the remainder of $a$ % $p$ then p is not a prime if you recall our equation\n",
    "  \n",
    "  $(2)^3 = 8 \\equiv 2(mod 3)$\n",
    "  \n",
    "   if they are equal then $8/3 = 2/3$.\n",
    "   \n",
    "   And we want to ouput 0 if the value is not a prime.  And finally we return check so that it can output the results of either 1, -1, or 0.   \n",
    "   \n",
    "   Next we have to create a list of the prime numbers being checked from out checkPrimeLike() function. \n",
    "   We create our function very similar to the one we created when we wrote our ListPrimes function the only difference now is that we are testing out checkPrimeLike() function that we created with the input that we will give the ListnPrimes() in the test function after our for list we want to test if the numbers we have from range 2 till p are prime and if they are they will spit out a 1 and will be added to a list nprimeList.\n",
    "   \n",
    "   https://en.wikipedia.org/wiki/Modular_arithmetic"
   ]
  },
  {
   "cell_type": "code",
   "execution_count": 95,
   "metadata": {
    "collapsed": true
   },
   "outputs": [],
   "source": [
    "def checkPrimeLike(p):\n",
    "    check = 1#Assume out initial input is prime\n",
    "    if (p < 2):\n",
    "        out = -1#if less than 2.\n",
    "        return out\n",
    "    for a in range(1,p): \n",
    "        if (pow(a, p, p)!=a%p): #Guarantees that p is not a prime.\n",
    "            check = 0#if NOT prime\n",
    "    return check"
   ]
  },
  {
   "cell_type": "code",
   "execution_count": 96,
   "metadata": {
    "collapsed": true
   },
   "outputs": [],
   "source": [
    "def ListnPrimes(p):\n",
    "    nprimeList = []\n",
    "    if (p < 2):\n",
    "        print(\"Try again.\")\n",
    "        out = -1\n",
    "        p = round(p)\n",
    "    for a in list(range(2, p)): #A range from 2 to your input\n",
    "        test = checkPrimeLike(a)\n",
    "        if (test==1):\n",
    "            nprimeList.append(a)\n",
    "    return nprimeList"
   ]
  },
  {
   "cell_type": "markdown",
   "metadata": {},
   "source": [
    "### Lets check to see if our functions are working! "
   ]
  },
  {
   "cell_type": "code",
   "execution_count": 97,
   "metadata": {
    "collapsed": false
   },
   "outputs": [
    {
     "data": {
      "text/plain": [
       "[2, 3, 5, 7, 11, 13, 17, 19]"
      ]
     },
     "execution_count": 97,
     "metadata": {},
     "output_type": "execute_result"
    }
   ],
   "source": [
    "ListnPrimes(20)"
   ]
  },
  {
   "cell_type": "markdown",
   "metadata": {},
   "source": [
    "Alright so we checked our option and we got the results we wanted!"
   ]
  },
  {
   "cell_type": "markdown",
   "metadata": {},
   "source": [
    "# Part 3 (ii)"
   ]
  },
  {
   "cell_type": "markdown",
   "metadata": {},
   "source": [
    "In section (ii) of part 3 we are asked to write a function very similar to the function we made earlier, we need to make a function nPrimeLike() which accepts n as an input and returns the first n number of prime-like numbers using the congruence relation check that we just estblished in the part before. This is very similar to what we did in part 1 of our project but now we must call upon the checkPrimeLike() function we made previously to check our inputs to make sure they are prime.\n",
    "\n",
    "  We begin with our function of nPrimeLike() and simply recall what we have done before from ListnPrimes() to make our code work the same, the main difference in our code is that we are calling upon checkPrimeLike() instead of CheckPrime() and the reason for that is so that we can compare outputs later on to prove that the congruence relation does not work all too well."
   ]
  },
  {
   "cell_type": "code",
   "execution_count": 98,
   "metadata": {
    "collapsed": true
   },
   "outputs": [],
   "source": [
    "def nPrimeLike(n=3):\n",
    "    \"\"\"This Function accepts an n as in input and returns the first\n",
    "       n number of prime like numbers using the congruence relation check\"\"\"\n",
    "    out = 1 #We assume our input is already a prime\n",
    "    nPrimeLike = []\n",
    "    k = 1\n",
    "    while (len(nPrimeLike) < n):\n",
    "        test = checkPrimeLike(k)#Checks the input to see if its a prime by calling on the checkPrimeLike function above\n",
    "        if (test == 1):\n",
    "            nPrimeLike.append(k)\n",
    "        k = k + 1        \n",
    "    return nPrimeLike "
   ]
  },
  {
   "cell_type": "markdown",
   "metadata": {},
   "source": [
    "### We now check our nPrimeLike values and compare them to our nPrimes values and check where we see any differences"
   ]
  },
  {
   "cell_type": "markdown",
   "metadata": {},
   "source": [
    "### Now we see and compare our results from the two different functions "
   ]
  },
  {
   "cell_type": "markdown",
   "metadata": {},
   "source": [
    "# Part 3"
   ]
  },
  {
   "cell_type": "markdown",
   "metadata": {},
   "source": [
    "  Part (iii) is asking us to compare our lists of primes from nPrimes( ) and nPrimeLike( ) and we now get to draw conclusions from the two different lists, what was similar what was different, the comparisons have to be quantitative, we also have to filter out any differences in our code with code we came up with."
   ]
  },
  {
   "cell_type": "markdown",
   "metadata": {},
   "source": [
    "For the comparison of the two lists there were some obvious distinctions that need to be addressed. For one the time for N1 list was much slower than that of the N2 list and that can be of importance for any kind of super computer trying to crack any type of security say for example in a foreign country.  Also cryptocurrency has a very vast need for prime numbers and the differences in the two lists can be utilized to make cyber security much stronger."
   ]
  },
  {
   "cell_type": "code",
   "execution_count": 99,
   "metadata": {
    "collapsed": false
   },
   "outputs": [
    {
     "name": "stdout",
     "output_type": "stream",
     "text": [
      "[2, 3, 5, 7, 11, 13, 17, 19, 23, 29, 31, 37, 41, 43, 47, 53, 59, 61, 67, 71, 73, 79, 83, 89, 97, 101, 103, 107, 109, 113, 127, 131, 137, 139, 149, 151, 157, 163, 167, 173, 179, 181, 191, 193, 197, 199, 211, 223, 227, 229, 233, 239, 241, 251, 257, 263, 269, 271, 277, 281, 283, 293, 307, 311, 313, 317, 331, 337, 347, 349, 353, 359, 367, 373, 379, 383, 389, 397, 401, 409, 419, 421, 431, 433, 439, 443, 449, 457, 461, 463, 467, 479, 487, 491, 499, 503, 509, 521, 523, 541, 547, 557, 561, 563, 569, 571, 577, 587, 593, 599, 601, 607, 613, 617, 619, 631, 641, 643, 647, 653, 659, 661, 673, 677, 683, 691, 701, 709, 719, 727, 733, 739, 743, 751, 757, 761, 769, 773, 787, 797, 809, 811, 821, 823, 827, 829, 839, 853, 857, 859, 863, 877, 881, 883, 887, 907, 911, 919, 929, 937, 941, 947, 953, 967, 971, 977, 983, 991, 997, 1009, 1013, 1019, 1021, 1031, 1033, 1039, 1049, 1051, 1061, 1063, 1069, 1087, 1091, 1093, 1097, 1103, 1105, 1109, 1117, 1123, 1129, 1151, 1153, 1163, 1171, 1181, 1187, 1193, 1201, 1213]\n"
     ]
    }
   ],
   "source": [
    "N1 = nPrimeLike(200)\n",
    "print(N1)"
   ]
  },
  {
   "cell_type": "code",
   "execution_count": 100,
   "metadata": {
    "collapsed": false
   },
   "outputs": [
    {
     "name": "stdout",
     "output_type": "stream",
     "text": [
      "[2, 3, 5, 7, 11, 13, 17, 19, 23, 29, 31, 37, 41, 43, 47, 53, 59, 61, 67, 71, 73, 79, 83, 89, 97, 101, 103, 107, 109, 113, 127, 131, 137, 139, 149, 151, 157, 163, 167, 173, 179, 181, 191, 193, 197, 199, 211, 223, 227, 229, 233, 239, 241, 251, 257, 263, 269, 271, 277, 281, 283, 293, 307, 311, 313, 317, 331, 337, 347, 349, 353, 359, 367, 373, 379, 383, 389, 397, 401, 409, 419, 421, 431, 433, 439, 443, 449, 457, 461, 463, 467, 479, 487, 491, 499, 503, 509, 521, 523, 541, 547, 557, 563, 569, 571, 577, 587, 593, 599, 601, 607, 613, 617, 619, 631, 641, 643, 647, 653, 659, 661, 673, 677, 683, 691, 701, 709, 719, 727, 733, 739, 743, 751, 757, 761, 769, 773, 787, 797, 809, 811, 821, 823, 827, 829, 839, 853, 857, 859, 863, 877, 881, 883, 887, 907, 911, 919, 929, 937, 941, 947, 953, 967, 971, 977, 983, 991, 997, 1009, 1013, 1019, 1021, 1031, 1033, 1039, 1049, 1051, 1061, 1063, 1069, 1087, 1091, 1093, 1097, 1103, 1109, 1117, 1123, 1129, 1151, 1153, 1163, 1171, 1181, 1187, 1193, 1201, 1213, 1217, 1223]\n"
     ]
    }
   ],
   "source": [
    "N2 = nPrimes(200)\n",
    "print(N2)"
   ]
  },
  {
   "cell_type": "code",
   "execution_count": 101,
   "metadata": {
    "collapsed": false
   },
   "outputs": [
    {
     "name": "stdout",
     "output_type": "stream",
     "text": [
      "[1217, 1223]\n"
     ]
    }
   ],
   "source": [
    "extras = [i for i in N2 if i not in N1]\n",
    "print(extras)"
   ]
  },
  {
   "cell_type": "markdown",
   "metadata": {},
   "source": [
    "### Comparisons"
   ]
  },
  {
   "cell_type": "markdown",
   "metadata": {},
   "source": [
    "The comparisons can be made from the different lists is that N2, List 2 is much faster than N1, List 1. This can be due to the fact that for our CheckPrime function we used the\n",
    "\n",
    "$\\sqrt{n}$\n",
    "\n",
    "as opposed to the algorithm we used for our checkPrimeLike function, which was just \n",
    "\n",
    "$(a)^p$ % $p$ $\\not=$ $(a)^p$ % $p$ \n",
    "\n",
    "Another comparison that can be made from the two outputs is that there were a couple of numbers that showe up on list 2 and not on list 1 which were:\n",
    "\n",
    "[1217, 1223]\n",
    "\n",
    "This can be due to the fact that the nPrimeLike() function is not as accurate as the PrimeLike() function.\n",
    "\n",
    "These numbers are known as Carmichael numbers, which are numbers that are composite that satisfy \n",
    "\n",
    "\n",
    "$(a)^p \\equiv a( modp)$\n",
    "\n",
    "Carmichael numbers are the only composite numbers that pass the congruence test.\n",
    "\n",
    "https://en.wikipedia.org/wiki/Carmichael_number"
   ]
  },
  {
   "cell_type": "markdown",
   "metadata": {},
   "source": [
    "# Conclusion"
   ]
  },
  {
   "cell_type": "markdown",
   "metadata": {},
   "source": [
    "  Prime numbers are more important than we make them to be, they are used in everyday life for things like cyber security and also for cryptocurrency.  Prime numbers are impenetrable shields becuase they are so simple and they take so long to crack. Modules are extremely important to cybersecurity because they can used to generate very long lists of prime numbers that would take hackers many years to decode, which is very safe for us and for the future. Prime numbers are used in Cryptocurrency to make keys, public keys and private keys, these keys are then distributed, the private to customers for specific one on one interations online.  \n",
    "\n",
    "  Prime numbers are also said to be infinite but they are difficult to find, our computers are not strong enough to decipher the larger one and we are still discovering larger prime numbers. Prime numbers are very easy to formulate but they are very difficult to break down and this is what makes them so important. A great example of this was shown in the code we made today. The program is very fast with computing prime numbers but when it came to breaking them down the python program slowed down and took more time to get the answers we desired.\n",
    "\n",
    "  Throughout the project there are many observations that can be made regarding prime numbers and functions that are created to seek them. Functions need to be extremely precise in order to carry out their demands to work properly. Our Project consisted of making multiple functions that would be able to take in any integer and either output a list of primes less than said integer or the equivalent number of integers as our input digit, our code consisted of many loops and statements to make sure we could be perfectionists and make sure we could get outputs that were desirable.  We created algorithms to go into our statements to make our code work as efficiently as possible. We were asked to create similar functions to compare them to our initial function and see how they differ and what comparisons could be made from those differences and what those differences meant in the world of prime numbers."
   ]
  },
  {
   "cell_type": "markdown",
   "metadata": {},
   "source": [
    "# Sources\n",
    "\n",
    "https://www.extremetech.com/extreme/219570-what-are-prime-numbers-and-why-are-they-so-vital-to-modern-life \n",
    "\n",
    "https://en.wikipedia.org/wiki/Control_flow \n",
    "\n",
    "https://en.wikipedia.org/wiki/Fundamental_theorem_of_arithmetic \n",
    "\n",
    "https://en.wikipedia.org/wiki/Modular_arithmetic \n",
    " \n",
    "https://en.wikipedia.org/wiki/Carmichael_number \n"
   ]
  },
  {
   "cell_type": "code",
   "execution_count": null,
   "metadata": {
    "collapsed": true
   },
   "outputs": [],
   "source": []
  }
 ],
 "metadata": {
  "anaconda-cloud": {},
  "kernelspec": {
   "display_name": "Python 3",
   "language": "python",
   "name": "python3"
  },
  "language_info": {
   "codemirror_mode": {
    "name": "ipython",
    "version": 3
   },
   "file_extension": ".py",
   "mimetype": "text/x-python",
   "name": "python",
   "nbconvert_exporter": "python",
   "pygments_lexer": "ipython3",
   "version": "3.7.0"
  }
 },
 "nbformat": 4,
 "nbformat_minor": 2
}
